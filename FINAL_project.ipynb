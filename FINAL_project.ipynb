{
 "cells": [
  {
   "cell_type": "markdown",
   "metadata": {},
   "source": [
    "# Final project\n",
    "\n",
    "**Can you escape a velociraptor?**\n",
    "\n",
    "Your goal is to figure out whether or not a velociraptor will catch you or if you can outrun it!\n",
    "\n",
    "## Problem 1. Position vs. time\n",
    "\n",
    "Suppose a velociraptor can run 18 m/s. And suppose you can run at 3 m/s, but you have a 30 meter head start. Assume that you and the 'raptor accelerate so quickly that you can ignore acceleration. \n",
    "\n",
    "Make a plot of the position vs. time for both you and the 'raptor (plot both on the same figure). Clearly label all axes and give the plot a legend. Plot over a suitable time frame. Save the figure as a .png file. \n",
    "\n",
    "*This plot will be included in your write-up*."
   ]
  },
  {
   "cell_type": "code",
   "execution_count": 1,
   "metadata": {
    "collapsed": false
   },
   "outputs": [
    {
     "data": {
      "text/plain": [
       "<matplotlib.text.Text at 0xa20f240>"
      ]
     },
     "execution_count": 1,
     "metadata": {},
     "output_type": "execute_result"
    },
    {
     "data": {
      "image/png": "[encoded data removed]",
      "text/plain": [
       "<matplotlib.figure.Figure at 0x39c0e48>"
      ]
     },
     "metadata": {},
     "output_type": "display_data"
    }
   ],
   "source": [
    "# Your code here. \n",
    "import numpy as np\n",
    "import matplotlib.pylab as plt\n",
    "%matplotlib inline\n",
    "\n",
    "rs = 0  #raptor starting position\n",
    "hs = 30 #human starting position\n",
    "\n",
    "rv = 18 #raptor velocity\n",
    "hv = 3  #human velocity\n",
    "\n",
    "t = np.linspace(0,3,1000)\n",
    "rp = rv*t + rs #raptor position at time t\n",
    "hp = hv*t + hs #human position at time t\n",
    "\n",
    "plt.plot(t,rp,'r-',label='Raptor Position')\n",
    "plt.plot(t,hp,'c-',label='Human Position')\n",
    "plt.legend()\n",
    "plt.xlabel('Time (s)')\n",
    "plt.ylabel('Distance (m)')"
   ]
  },
  {
   "cell_type": "markdown",
   "metadata": {},
   "source": [
    "## Problem 2. When does the 'raptor catch up to you?\n",
    "\n",
    "Use your code to figure out when the raptor catches up to you. Both how much time has passed and how far *you* have run.  \n",
    "\n",
    "Do not just get this information off the graph. Use your Python code to figure this out! Getting the information just by looking at the plot will result in a 0 for this question. You can use an analytic approach (algebra) to check your answer, but that is not the approach I want you to use. Depending on how you write your code, you might not get an *exact* answer, but you should find a way to get pretty close to the algebraic solution. "
   ]
  },
  {
   "cell_type": "code",
   "execution_count": 2,
   "metadata": {
    "collapsed": false,
    "scrolled": true
   },
   "outputs": [
    {
     "name": "stdout",
     "output_type": "stream",
     "text": [
      "The raptor caught up\n",
      "Time Elapsed: 2.000000\n",
      "Distance Traveled: 6.000000\n"
     ]
    }
   ],
   "source": [
    "# Your code here.\n",
    "time = []\n",
    "for num in t: \n",
    "    if rv*num + rs == hv*num + hs:\n",
    "        time.append(num)\n",
    "print \"The raptor caught up\"\n",
    "print \"Time Elapsed: %f\" % (float(time[0]))\n",
    "print \"Distance Traveled: %f\" % (hv*time[0])"
   ]
  },
  {
   "cell_type": "markdown",
   "metadata": {},
   "source": [
    "## Problem 3. When is it close enough to strike?\n",
    "\n",
    "It turns out the 'raptor will start trying to attack when it is 1 meter away. How much time has passed and how far have you run when it is 1 meter behind you? Use a similar approach as the last problem. \n",
    "\n",
    "***Also make a new copy of the above plot, but label (with a line or arrow or whatever you want) the point at which the raptor is 1 meter behind you.***"
   ]
  },
  {
   "cell_type": "code",
   "execution_count": 6,
   "metadata": {
    "collapsed": false
   },
   "outputs": [
    {
     "name": "stdout",
     "output_type": "stream",
     "text": [
      "The raptor is close enough to bite\n",
      "Time Elapsed: 1.933934\n",
      "Distance Traveled: 5.801802\n"
     ]
    },
    {
     "data": {
      "text/plain": [
       "<matplotlib.text.Text at 0xb3f9da0>"
      ]
     },
     "execution_count": 6,
     "metadata": {},
     "output_type": "execute_result"
    },
    {
     "data": {
      "image/png": "[encoded data removed]",
      "text/plain": [
       "<matplotlib.figure.Figure at 0xb0efd30>"
      ]
     },
     "metadata": {},
     "output_type": "display_data"
    }
   ],
   "source": [
    "# Your code here.\n",
    "values = []\n",
    "for num in t: \n",
    "    if .95 <= hv*num + hs - (rv*num + rs) <= 1.:\n",
    "        values.append(num)\n",
    "\n",
    "ttb = values[0] #time to bite\n",
    "pob = hv*ttb +hs #human position of bite\n",
    "print \"The raptor is close enough to bite\"\n",
    "print \"Time Elapsed: %f\" % (ttb)\n",
    "print \"Distance Traveled: %f\" % (pob-hs)\n",
    "plt.plot(t,rp,'r-',label='Raptor Position')\n",
    "plt.plot(t,hp,'c-',label='Human Position')\n",
    "plt.plot(ttb,pob,'bo',markersize=5,label='Position at bite')\n",
    "plt.legend()\n",
    "plt.xlabel('Time (s)')\n",
    "plt.ylabel('Distance (m)')"
   ]
  },
  {
   "cell_type": "markdown",
   "metadata": {},
   "source": [
    "## Problem 4. Will it bite you?\n",
    "\n",
    "When the 'raptor is 1 meter away, it will try to bite you. If it doesn't bite you, it will try a second and (if necessary) a third time. If it doesn't get you on the third try, it will grow frustrated and stop chasing you. Hurray!\n",
    "\n",
    "Suppose the first time it tries, there is a 20% chance it will bite you. If it misses and it needs to try a second time, there is only a 15% chance, and if it misses *that* time, there is only a 7% chance on the third try. \n",
    "\n",
    "If it bites you once, you're 'raptor food. If it misses all three times, you get away!\n",
    "\n",
    "What is the probability that you will get away?\n"
   ]
  },
  {
   "cell_type": "code",
   "execution_count": 4,
   "metadata": {
    "collapsed": false
   },
   "outputs": [
    {
     "name": "stdout",
     "output_type": "stream",
     "text": [
      "The chance to get away is 61.400\n"
     ]
    }
   ],
   "source": [
    "# Your code here\n",
    "def bite():\n",
    "    a1 = 100*np.random.random(1)\n",
    "    a2 = 100*np.random.random(1)\n",
    "    a3 = 100*np.random.random(1)\n",
    "    if a1 > 20:\n",
    "        if a2 > 15:\n",
    "            if a3 > 7:\n",
    "                return True\n",
    "            else:\n",
    "                return False\n",
    "        else:\n",
    "            return False\n",
    "    else:\n",
    "        return False\n",
    "ntests = 1000\n",
    "nbite = 0\n",
    "for i in range(0,ntests):\n",
    "    if bite() == False:\n",
    "        nbite += 1\n",
    "print \"The chance to get away is %0.3f\" % (100.*(ntests-nbite)/float(ntests))\n"
   ]
  },
  {
   "cell_type": "code",
   "execution_count": null,
   "metadata": {
    "collapsed": true
   },
   "outputs": [],
   "source": []
  },
  {
   "cell_type": "code",
   "execution_count": null,
   "metadata": {
    "collapsed": true
   },
   "outputs": [],
   "source": []
  }
 ],
 "metadata": {
  "kernelspec": {
   "display_name": "Python 2",
   "language": "python",
   "name": "python2"
  },
  "language_info": {
   "codemirror_mode": {
    "name": "ipython",
    "version": 2
   },
   "file_extension": ".py",
   "mimetype": "text/x-python",
   "name": "python",
   "nbconvert_exporter": "python",
   "pygments_lexer": "ipython2",
   "version": "2.7.10"
  }
 },
 "nbformat": 4,
 "nbformat_minor": 0
}
